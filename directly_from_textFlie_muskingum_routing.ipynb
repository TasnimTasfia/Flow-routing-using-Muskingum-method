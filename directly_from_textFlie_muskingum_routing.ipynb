{
  "nbformat": 4,
  "nbformat_minor": 0,
  "metadata": {
    "colab": {
      "provenance": [],
      "collapsed_sections": []
    },
    "kernelspec": {
      "name": "python3",
      "display_name": "Python 3"
    },
    "language_info": {
      "name": "python"
    }
  },
  "cells": [
    {
      "cell_type": "markdown",
      "source": [
        "Import Libraries"
      ],
      "metadata": {
        "id": "y4XvV5gtzN4W"
      }
    },
    {
      "cell_type": "code",
      "execution_count": 1,
      "metadata": {
        "id": "ECe_KgoPzImO"
      },
      "outputs": [],
      "source": [
        "import pandas as pd\n",
        "import numpy as np\n",
        "from matplotlib import pyplot as plt"
      ]
    },
    {
      "cell_type": "markdown",
      "source": [
        "I= inflow (m3/s),\n",
        "Q= outflow(m3/s),\n",
        "K= Storage time constant = 12 hour,\n",
        "X= Weighing factor = 0.5,\n",
        "Delta-T= 6 hour,\n",
        "Time in Hour"
      ],
      "metadata": {
        "id": "UUtt___OzSED"
      }
    },
    {
      "cell_type": "markdown",
      "source": [
        "Import Dataset"
      ],
      "metadata": {
        "id": "wvZldpmczXr7"
      }
    },
    {
      "cell_type": "code",
      "source": [
        "I= np.loadtxt('test_routing.txt', skiprows=1, delimiter=',', dtype='int')\n",
        "I"
      ],
      "metadata": {
        "id": "FwEPOzrAzU-D",
        "colab": {
          "base_uri": "https://localhost:8080/",
          "height": 0
        },
        "outputId": "56275b67-fe08-4fda-8222-56ab95fd98c2"
      },
      "execution_count": 2,
      "outputs": [
        {
          "output_type": "execute_result",
          "data": {
            "text/plain": [
              "array([10, 20, 50, 60, 55, 45, 35, 27, 20, 15])"
            ]
          },
          "metadata": {},
          "execution_count": 2
        }
      ]
    },
    {
      "cell_type": "markdown",
      "source": [
        "Preparing Dataset and Visualizing:"
      ],
      "metadata": {
        "id": "r_jP-TGllZrZ"
      }
    },
    {
      "cell_type": "code",
      "source": [
        "Time=np.empty(10)\n",
        "Time[0]= 0\n",
        "for i in range(1,10):\n",
        "  Time[i] = 6 + Time[i-1]"
      ],
      "metadata": {
        "id": "r3Fm3G_glfQP"
      },
      "execution_count": 3,
      "outputs": []
    },
    {
      "cell_type": "code",
      "source": [
        "plt.plot(Time,I,label='Inflows(m3/s)')\n",
        "plt.title(\"Inflow Hydrograph\")\n",
        "plt.xlabel('Time(hr)')\n",
        "plt.ylabel('Flow (cumec)')\n",
        "plt.grid(visible = True, axis = 'y',  alpha = 0.6)\n",
        "plt.legend()\n",
        "plt.tight_layout()\n",
        "plt.show()"
      ],
      "metadata": {
        "colab": {
          "base_uri": "https://localhost:8080/",
          "height": 297
        },
        "id": "FR7VAU69liko",
        "outputId": "13b66ff2-c208-47e9-e6c0-d08a0de72901"
      },
      "execution_count": 4,
      "outputs": [
        {
          "output_type": "display_data",
          "data": {
            "text/plain": [
              "<Figure size 432x288 with 1 Axes>"
            ],
            "image/png": "[encoded data removed]"
          },
          "metadata": {
            "needs_background": "light"
          }
        }
      ]
    },
    {
      "cell_type": "markdown",
      "source": [
        "Calculating C1,C2,C3:"
      ],
      "metadata": {
        "id": "zh_VzDIizeac"
      }
    },
    {
      "cell_type": "code",
      "source": [
        "K=12\n",
        "X=0.5\n",
        "delT=6\n",
        "D = 2*K*(1-X)+ delT\n",
        "# D\n",
        "C1= (-(2*K*X)+ delT)/D\n",
        "# C1\n",
        "C2= ((2*K*X)+ delT)/D\n",
        "# C2\n",
        "C3= ((2*K*(1-X))- delT)/D\n",
        "# C3\n",
        "\n",
        "#check:\n",
        "Z= C1+C2+C3\n",
        "Z"
      ],
      "metadata": {
        "id": "odU6faDBzeCM",
        "colab": {
          "base_uri": "https://localhost:8080/",
          "height": 0
        },
        "outputId": "202570fe-96db-4c48-fca9-82caab5acf7b"
      },
      "execution_count": 5,
      "outputs": [
        {
          "output_type": "execute_result",
          "data": {
            "text/plain": [
              "1.0"
            ]
          },
          "metadata": {},
          "execution_count": 5
        }
      ]
    },
    {
      "cell_type": "markdown",
      "source": [
        "Calculation Outflow,Q (m3/s): Outflow Equation: Qj+1 = C1IJ+1 + C2IJ + C3QJ"
      ],
      "metadata": {
        "id": "GpJaAF5IzkLZ"
      }
    },
    {
      "cell_type": "code",
      "source": [
        "Q = np.empty(10)\n",
        "Q[0] = 10\n",
        "for i in range(1,10):\n",
        "    Q[i] = C1*I[i] + C2*I[i-1] + C3*Q[i-1]\n",
        "\n",
        "Q"
      ],
      "metadata": {
        "id": "AELQ5Yp4znrc",
        "colab": {
          "base_uri": "https://localhost:8080/",
          "height": 0
        },
        "outputId": "d3354730-e4ec-4581-d62d-10fd4519e76a"
      },
      "execution_count": 6,
      "outputs": [
        {
          "output_type": "execute_result",
          "data": {
            "text/plain": [
              "array([10.        ,  6.66666667,  5.55555556, 31.85185185, 52.28395062,\n",
              "       57.42798354, 52.47599451, 43.49199817, 34.83066606, 26.61022202])"
            ]
          },
          "metadata": {},
          "execution_count": 6
        }
      ]
    },
    {
      "cell_type": "markdown",
      "source": [
        "Visualizing Inflow VS Outflow"
      ],
      "metadata": {
        "id": "KS_--LS_zqhy"
      }
    },
    {
      "cell_type": "code",
      "source": [
        "plt.plot(Time,I, '-*', label='Inflow (m3/s)',color='salmon')\n",
        "plt.plot(Time,Q, '--s', label='Outflow (m3/s)', color='steelblue')\n",
        "plt.title(\"Inflow vs Outflow Hydrograph\",fontweight = 'semibold')\n",
        "plt.xlabel('Time(hr)',fontweight = 'semibold')\n",
        "plt.ylabel('Flow Rate (cumec)',fontweight = 'semibold')\n",
        "plt.grid(visible = True, axis = 'y',  alpha = 0.6)\n",
        "plt.legend()\n",
        "plt.savefig(\"Inflow vs Outflow Hydrograph.png\", dpi=150, bbox_inches='tight')\n",
        "plt.show()"
      ],
      "metadata": {
        "id": "PdTSuQ3Qzxe3",
        "colab": {
          "base_uri": "https://localhost:8080/",
          "height": 295
        },
        "outputId": "71a09d02-30a3-4528-9b42-9045e41f8640"
      },
      "execution_count": 7,
      "outputs": [
        {
          "output_type": "display_data",
          "data": {
            "text/plain": [
              "<Figure size 432x288 with 1 Axes>"
            ],
            "image/png": "[encoded data removed]"
          },
          "metadata": {
            "needs_background": "light"
          }
        }
      ]
    }
  ]
}